{
 "cells": [
  {
   "cell_type": "code",
   "execution_count": 1,
   "metadata": {},
   "outputs": [],
   "source": [
    "from tensorflow import keras\n",
    "from tensorflow.keras import layers\n",
    "\n",
    "import numpy as np\n",
    "import pandas as pd\n",
    "import matplotlib.pyplot as plt\n",
    "from sklearn.model_selection import train_test_split\n",
    "from sklearn.preprocessing import OneHotEncoder, OrdinalEncoder\n",
    "from sklearn.pipeline import Pipeline\n",
    "\n",
    "from sklearn.impute import SimpleImputer\n",
    "from sklearn.compose import ColumnTransformer\n"
   ]
  },
  {
   "cell_type": "code",
   "execution_count": 2,
   "metadata": {},
   "outputs": [],
   "source": [
    "import re\n",
    "from sklearn.base import BaseEstimator, TransformerMixin\n",
    "\n",
    "class ExtractTextAndNumber(BaseEstimator, TransformerMixin):\n",
    "    def __init__(self, pattern=r'(\\d+\\.\\d+)HP (\\d+\\.\\d+)L (\\w+)'):\n",
    "        self.pattern = pattern\n",
    "\n",
    "    def fit(self, X, y=None):\n",
    "        return self\n",
    "\n",
    "    def transform(self, X):\n",
    "        def extract_text_and_number(string):\n",
    "            match = re.search(self.pattern, string)\n",
    "            if match:\n",
    "                return match.group(1), match.group(2)\n",
    "            else:\n",
    "                return 100, 2\n",
    "\n",
    "        return  pd.DataFrame(X['engine'].apply(extract_text_and_number).tolist(), columns=['engine_hp', 'engine_cap'])"
   ]
  },
  {
   "cell_type": "code",
   "execution_count": 8,
   "metadata": {},
   "outputs": [],
   "source": [
    "data = pd.read_csv(\"./train.csv\")\n",
    "\n",
    "X = data.copy()\n",
    "y = X.pop(\"price\")\n",
    "\n",
    "features_num = [\"model_year\", \"milage\"]\n",
    "features_cat_ohe = [\"brand\", \"fuel_type\", \"transmission\", \"accident\", \"clean_title\"]\n",
    "features_cat_ord = [\"ext_col\", \"int_col\"]\n",
    "features_cat_cst = [\"engine\"]\n",
    "\n",
    "# Preprocessing for numerical data\n",
    "numerical_transformer = SimpleImputer(strategy=\"mean\")\n",
    "\n",
    "# Preprocessing for categorical data\n",
    "categorical_transformer = Pipeline(\n",
    "    steps=[\n",
    "        (\"imputer\", SimpleImputer(strategy=\"most_frequent\")),\n",
    "        (\"onehot\", OneHotEncoder(handle_unknown=\"ignore\", sparse_output=False)),\n",
    "    ]\n",
    ")\n",
    "\n",
    "ordinal_transformer = Pipeline(\n",
    "    steps=[\n",
    "        (\"imputer\", SimpleImputer(strategy=\"most_frequent\")),\n",
    "        (\"ordinal\", OrdinalEncoder()),\n",
    "    ]\n",
    ")\n",
    "\n",
    "custom_transformer = ExtractTextAndNumber()\n",
    "\n",
    "preprocessor = ColumnTransformer(\n",
    "    transformers=[\n",
    "        (\"num\", numerical_transformer, features_num),\n",
    "        (\"cat_ohe\", categorical_transformer, features_cat_ohe),\n",
    "        (\"cat_ord\", ordinal_transformer, features_cat_ord),\n",
    "        (\"cst\", custom_transformer, features_cat_cst),\n",
    "    ]\n",
    ")\n",
    "\n",
    "df = preprocessor.fit_transform(X)\n",
    "\n",
    "X = pd.DataFrame(df).astype('float')\n",
    "X_train, X_valid, y_train, y_valid = train_test_split(X, y, test_size=0.2)\n",
    "\n",
    "shape = [X_train.shape[1]]"
   ]
  },
  {
   "cell_type": "code",
   "execution_count": null,
   "metadata": {},
   "outputs": [],
   "source": [
    "pd.DataFrame(df).head()\n"
   ]
  },
  {
   "cell_type": "code",
   "execution_count": null,
   "metadata": {},
   "outputs": [],
   "source": [
    "model = keras.Sequential(\n",
    "    [\n",
    "        layers.Dense(1024, activation=\"softplus\", input_shape=shape),\n",
    "        layers.Dropout(0.3),\n",
    "        layers.BatchNormalization(),\n",
    "        layers.Dense(512, activation=\"softplus\"),\n",
    "        layers.Dropout(0.3),\n",
    "        layers.BatchNormalization(),\n",
    "        layers.Dense(1, activation=\"relu\"),\n",
    "    ]\n",
    ")\n",
    "\n",
    "model.compile(optimizer=\"sgd\", loss=\"mae\")\n",
    "\n",
    "earlyStopping = keras.callbacks.EarlyStopping(\n",
    "    patience=10, min_delta=10, restore_best_weights=True\n",
    ")\n",
    "\n",
    "history = model.fit(\n",
    "    X_train,y_train,\n",
    "    validation_data = (X_valid,y_valid),\n",
    "    batch_size = 512,\n",
    "    epochs = 100,\n",
    "    callbacks = [earlyStopping],\n",
    "    verbose = 2,\n",
    ")"
   ]
  },
  {
   "cell_type": "code",
   "execution_count": null,
   "metadata": {},
   "outputs": [],
   "source": [
    "history_df = pd.DataFrame(history.history)\n",
    "history_df.loc[20:, ['loss', 'val_loss']].plot()"
   ]
  },
  {
   "cell_type": "code",
   "execution_count": null,
   "metadata": {},
   "outputs": [],
   "source": [
    "categorical_transformer.fit(X)"
   ]
  },
  {
   "cell_type": "code",
   "execution_count": null,
   "metadata": {},
   "outputs": [],
   "source": [
    "test_data = pd.read_csv('./test.csv')\n",
    "test_trans = pd.DataFrame(preprocessor.transform(test_data))"
   ]
  },
  {
   "cell_type": "code",
   "execution_count": null,
   "metadata": {},
   "outputs": [],
   "source": [
    "preds = model.predict((test_trans.astype('float')))\n",
    "preds"
   ]
  },
  {
   "cell_type": "code",
   "execution_count": null,
   "metadata": {},
   "outputs": [],
   "source": [
    "result = pd.DataFrame(\n",
    "    {\n",
    "        'id':test_data['id'],\n",
    "        'price':preds.reshape(-1)\n",
    "    }\n",
    ")\n",
    "\n",
    "result.to_csv('submission.csv',index=False)"
   ]
  },
  {
   "cell_type": "code",
   "execution_count": null,
   "metadata": {},
   "outputs": [],
   "source": []
  }
 ],
 "metadata": {
  "kernelspec": {
   "display_name": "machine_learning",
   "language": "python",
   "name": "python3"
  },
  "language_info": {
   "codemirror_mode": {
    "name": "ipython",
    "version": 3
   },
   "file_extension": ".py",
   "mimetype": "text/x-python",
   "name": "python",
   "nbconvert_exporter": "python",
   "pygments_lexer": "ipython3",
   "version": "3.12.3"
  }
 },
 "nbformat": 4,
 "nbformat_minor": 2
}
