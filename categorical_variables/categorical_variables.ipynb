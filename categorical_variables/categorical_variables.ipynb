{
 "cells": [
  {
   "cell_type": "code",
   "execution_count": 33,
   "id": "b5ecb0be-f7af-4569-b2aa-a43a9bf18778",
   "metadata": {},
   "outputs": [],
   "source": [
    "import pandas as pd\n",
    "from sklearn.model_selection import train_test_split\n",
    "import numpy as np\n",
    "from sklearn.ensemble import RandomForestRegressor\n",
    "from sklearn.metrics import mean_absolute_error\n",
    "from sklearn.preprocessing import OrdinalEncoder, OneHotEncoder"
   ]
  },
  {
   "cell_type": "code",
   "execution_count": 13,
   "id": "15d0d9c3",
   "metadata": {},
   "outputs": [],
   "source": [
    "data = pd.read_csv('./melb_data.csv')\n",
    "# Separate target from predictors\n",
    "y = data.Price\n",
    "X = data.drop(['Price'], axis=1)\n",
    "cols_missing = [col for col in X.columns if X[col].isnull().any()]\n",
    "X.drop(cols_missing, axis=1, inplace=True)\n",
    "\n",
    "low_card_cols = [col for col in X.columns if X[col].nunique() < 10 and X[col].dtype == \"object\" ]\n",
    "num_cols = [col for col in X.columns if X[col].dtype in ['int64','float64']]\n",
    "\n",
    "cols = low_card_cols + num_cols\n",
    "x = X[cols].copy()\n",
    "\n",
    "x_train, x_test, y_train, y_test = train_test_split(x, y, test_size=0.2)\n"
   ]
  },
  {
   "cell_type": "code",
   "execution_count": 16,
   "id": "99b1a62a",
   "metadata": {},
   "outputs": [
    {
     "name": "stdout",
     "output_type": "stream",
     "text": [
      "Categorical Variables\n",
      "['Type', 'Method', 'Regionname']\n"
     ]
    }
   ],
   "source": [
    "s = (x_train.dtypes == 'object')\n",
    "object_cols = list(s[s].index)\n",
    "print(\"Categorical Variables\")\n",
    "print(object_cols)"
   ]
  },
  {
   "cell_type": "code",
   "execution_count": 20,
   "id": "d22f4b01",
   "metadata": {},
   "outputs": [],
   "source": [
    "def score_dataset(X_train, x_test, y_train, y_valid):\n",
    "    model = RandomForestRegressor(n_estimators=100, random_state=0)\n",
    "    model.fit(X_train, y_train)\n",
    "    preds = model.predict(x_test)\n",
    "    return mean_absolute_error(y_valid, preds)"
   ]
  },
  {
   "cell_type": "markdown",
   "id": "03fdc5ae",
   "metadata": {},
   "source": [
    "# DROP THE COLUMNS!!!!"
   ]
  },
  {
   "cell_type": "code",
   "execution_count": 29,
   "id": "390fdb9e",
   "metadata": {},
   "outputs": [
    {
     "name": "stdout",
     "output_type": "stream",
     "text": [
      "Score for Dropping Categorical Columns: 181602.13464148482\n"
     ]
    }
   ],
   "source": [
    "drop_x_train = x_train.select_dtypes(exclude= ['object'])\n",
    "drop_x_test  = x_test.select_dtypes(exclude= ['object'])\n",
    "score = score_dataset(drop_x_train, drop_x_test, y_train, y_test)\n",
    "print(f'Score for Dropping Categorical Columns: {score}')"
   ]
  },
  {
   "cell_type": "markdown",
   "id": "0995e9ff",
   "metadata": {},
   "source": [
    "# Ordinal Encoder"
   ]
  },
  {
   "cell_type": "code",
   "execution_count": 31,
   "id": "c9de7e01",
   "metadata": {},
   "outputs": [
    {
     "name": "stdout",
     "output_type": "stream",
     "text": [
      "Score for Ordinal Encoding Categorical Columns: 171054.69997352548\n"
     ]
    }
   ],
   "source": [
    "label_x_train = x_train.copy()\n",
    "label_x_test = x_test.copy()\n",
    "\n",
    "ordinal_encoder = OrdinalEncoder()\n",
    "ordinal_encoder.fit(label_x_train[object_cols])\n",
    "label_x_train[object_cols] = ordinal_encoder.transform(label_x_train[object_cols])\n",
    "label_x_test[object_cols] = ordinal_encoder.transform(label_x_test[object_cols])\n",
    "\n",
    "score_label = score_dataset(label_x_train, label_x_test, y_train, y_test)\n",
    "print(f'Score for Ordinal Encoding Categorical Columns: {score_label}')"
   ]
  },
  {
   "cell_type": "markdown",
   "id": "f03c3358",
   "metadata": {},
   "source": [
    "# One-Hot Encoder"
   ]
  },
  {
   "cell_type": "code",
   "execution_count": 58,
   "id": "237f3ca0",
   "metadata": {},
   "outputs": [
    {
     "name": "stdout",
     "output_type": "stream",
     "text": [
      " Score For One-Hot Encoding: 169818.55641173993\n"
     ]
    }
   ],
   "source": [
    "OH_ENCODER = OneHotEncoder(handle_unknown='ignore',sparse_output=False)\n",
    "\n",
    "OH_ENCODER.fit(x_train[object_cols])\n",
    "train_cols = pd.DataFrame(OH_ENCODER.transform(x_train[object_cols]))\n",
    "test_cols = pd.DataFrame(OH_ENCODER.transform(x_test[object_cols]))\n",
    "\n",
    "train_cols.index = x_train.index\n",
    "test_cols.index = x_test.index\n",
    "\n",
    "num_cols_train = x_train.select_dtypes(exclude=['object'])\n",
    "num_cols_test = x_test.select_dtypes(exclude=['object'])\n",
    "\n",
    "x_train_oh = pd.concat([num_cols_train, train_cols], axis = 1)\n",
    "x_test_oh = pd.concat([num_cols_test, test_cols], axis = 1)\n",
    "\n",
    "x_train_oh.columns = x_train_oh.columns.astype('str')\n",
    "x_test_oh.columns = x_test_oh.columns.astype('str')\n",
    "\n",
    "OH_SCORE = score_dataset(x_train_oh, x_test_oh, y_train, y_test)\n",
    "print(f\" Score For One-Hot Encoding: {OH_SCORE}\")\n"
   ]
  }
 ],
 "metadata": {
  "kernelspec": {
   "display_name": "Python 3 (ipykernel)",
   "language": "python",
   "name": "python3"
  },
  "language_info": {
   "codemirror_mode": {
    "name": "ipython",
    "version": 3
   },
   "file_extension": ".py",
   "mimetype": "text/x-python",
   "name": "python",
   "nbconvert_exporter": "python",
   "pygments_lexer": "ipython3",
   "version": "3.12.3"
  }
 },
 "nbformat": 4,
 "nbformat_minor": 5
}
